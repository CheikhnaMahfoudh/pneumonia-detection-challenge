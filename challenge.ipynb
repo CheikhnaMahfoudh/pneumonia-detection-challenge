{
 "cells": [
  {
   "cell_type": "markdown",
   "metadata": {
    "colab_type": "text",
    "id": "3ekRn3OGuqqG"
   },
   "source": [
    "Import packages"
   ]
  },
  {
   "cell_type": "code",
   "execution_count": 2,
   "metadata": {
    "colab": {},
    "colab_type": "code",
    "id": "M9f8wSTpuprl"
   },
   "outputs": [],
   "source": [
    "\n",
    "import torch\n",
    "import torch.nn as nn\n",
    "import torch.nn.functional as F\n",
    "import torch.optim as optim\n",
    "from torchsummary import summary\n",
    "\n",
    "import cv2\n",
    "from torchvision.transforms import transforms\n",
    "from torch.utils.data import Dataset\n",
    "from torch.utils.data import DataLoader\n",
    "\n",
    "from sklearn.metrics import classification_report\n",
    "from skimage import io\n",
    "from pandas.core.common import flatten\n",
    "import numpy as np\n",
    "import matplotlib.pyplot as plt\n",
    "from tqdm import tqdm\n",
    "\n",
    "import glob\n",
    "import os\n",
    "import random\n",
    "import time\n",
    "\n",
    "from torch.utils.data import sampler\n",
    "\n",
    "#device = torch.device(\"cuda\" if torch.cuda.is_available() else \"cpu\")\n",
    "device = \"cpu\"\n",
    "#print(device)"
   ]
  },
  {
   "cell_type": "markdown",
   "metadata": {},
   "source": [
    "Set up datasets"
   ]
  },
  {
   "cell_type": "code",
   "execution_count": 110,
   "metadata": {
    "colab": {
     "base_uri": "https://localhost:8080/",
     "height": 215
    },
    "colab_type": "code",
    "id": "OtmWSGjqxtKH",
    "outputId": "a27a03eb-2771-442a-c082-b9b81b855e55"
   },
   "outputs": [],
   "source": [
    "def plot_images(images):\n",
    "    fig, axes = plt.subplots(1, 5, figsize=(20,20))\n",
    "    axes = axes.flatten()\n",
    "    for image, ax in zip( images, axes):\n",
    "        ax.imshow(image.astype('uint8'))\n",
    "        ax.axis('off')\n",
    "    plt.tight_layout()\n",
    "    plt.show()"
   ]
  },
  {
   "cell_type": "code",
   "execution_count": 6,
   "metadata": {},
   "outputs": [
    {
     "name": "stdout",
     "output_type": "stream",
     "text": [
      "class example:  PNEUMONIA\n",
      "train example:  data\\train\\PNEUMONIA\\person1460_virus_2507.jpeg\n",
      "val example:  data\\val\\PNEUMONIA\\person1951_bacteria_4882.jpeg\n",
      "test example:  data\\test\\NORMAL\\IM-0001-0001.jpeg\n"
     ]
    }
   ],
   "source": [
    "TRAIN_DIR = 'data\\\\train'\n",
    "VAL_DIR = 'data\\\\val'\n",
    "TEST_DIR = 'data\\\\test'\n",
    "\n",
    "classes = []\n",
    "train = []\n",
    "val = []\n",
    "test = []\n",
    "\n",
    "for data_path in glob.glob(os.path.join(TRAIN_DIR, '*')):\n",
    "#     print(data_path)\n",
    "    cls = data_path.split('\\\\')[-1]\n",
    "    imgs = glob.glob(os.path.join(data_path, '*'))\n",
    "    classes.append(cls)\n",
    "    train.append(imgs)\n",
    "\n",
    "train = list(flatten(train))\n",
    "random.shuffle(train)\n",
    "idx_to_class = {i:j for i, j in enumerate(classes)}\n",
    "class_to_idx = {value:key for key,value in idx_to_class.items()}\n",
    "\n",
    "for data_path in glob.glob(os.path.join(VAL_DIR, '*')):\n",
    "    imgs = glob.glob(os.path.join(data_path, '*'))\n",
    "    val.append(imgs)\n",
    "\n",
    "val = list(flatten(val))\n",
    "random.shuffle(val)\n",
    "\n",
    "for data_path in glob.glob(os.path.join(TEST_DIR, '*')):\n",
    "    imgs = glob.glob(os.path.join(data_path, '*'))\n",
    "    test.append(imgs)\n",
    "\n",
    "test = list(flatten(test))\n",
    "\n",
    "print('class example: ', classes[1])\n",
    "print('train example: ', train[0])\n",
    "print('val example: ', val[0])\n",
    "print('test example: ', test[0])"
   ]
  },
  {
   "cell_type": "markdown",
   "metadata": {},
   "source": [
    "Training Data Balancing"
   ]
  },
  {
   "cell_type": "code",
   "execution_count": 37,
   "metadata": {},
   "outputs": [],
   "source": [
    "# This function will give a weight to each sample in the data that will be taken into account when using a pytorch sampler, \n",
    "#the samples from the minority class will have a larger weight\n",
    "\n",
    "def make_weights_for_balanced_classes(samples, target, nclasses):                        \n",
    "    count = [0] * nclasses                                                      \n",
    "    for item in target:                                                         \n",
    "        count[item] += 1                                                     \n",
    "    weight_per_class = [0.] * nclasses                                      \n",
    "    N = float(sum(count))                                                   \n",
    "    for i in range(nclasses):                                                   \n",
    "        weight_per_class[i] = N/float(count[i])                                 \n",
    "    weight = [0] * len(samples)                                              \n",
    "    for idx, val in enumerate(samples):                                          \n",
    "        weight[idx] = weight_per_class[target[idx]]                                  \n",
    "    return weight\n"
   ]
  },
  {
   "cell_type": "code",
   "execution_count": 13,
   "metadata": {},
   "outputs": [
    {
     "name": "stdout",
     "output_type": "stream",
     "text": [
      "[0, 0]\n"
     ]
    }
   ],
   "source": [
    "count = [0] * 2\n",
    "print(count)"
   ]
  },
  {
   "cell_type": "code",
   "execution_count": 63,
   "metadata": {},
   "outputs": [],
   "source": [
    "class ImageDataset(Dataset):\n",
    "    def __init__(self, image_paths,transform=None):\n",
    "        self.image_paths = image_paths\n",
    "        self.transform = transform\n",
    "        self.image_labels = []\n",
    "        for filename in image_paths:\n",
    "                label = filename.split('\\\\')[-2] \n",
    "                label = class_to_idx[label]\n",
    "                self.image_labels.append(label)\n",
    "\n",
    "        \n",
    "    def __len__(self):\n",
    "        return len(self.image_paths)\n",
    "\n",
    "    def __getitem__(self, idx):\n",
    "        image_filepath = self.image_paths[idx]\n",
    "        image = cv2.imread(image_filepath)\n",
    "        image = cv2.cvtColor(image, cv2.COLOR_BGR2RGB)\n",
    "#         image=io.imread(image_filepath)\n",
    "#         print(image_filepath)\n",
    "#     The images are already in grayscale so reading the image with imread from the module io will load the image as it is.\n",
    "#     While reading them with imread from cv2, they will be read as BGR by default. Hence i chose to read them with imread from i0\n",
    "        \n",
    "        label = image_filepath.split('\\\\')[-2] \n",
    "        label = class_to_idx[label]\n",
    "        if self.transform is not None:\n",
    "            image = self.transform(image)\n",
    "            return image, label\n",
    "            \n",
    "    \n",
    "\n",
    "image_transforms = transforms.Compose([\n",
    "    transforms.ToTensor(),\n",
    "    transforms.Resize((512, 512))\n",
    "])\n",
    "\n",
    "train_dataset = ImageDataset(train, image_transforms)\n",
    "val_dataset = ImageDataset(val, image_transforms)\n",
    "test_dataset = ImageDataset(test, image_transforms)\n",
    "\n",
    "weights = make_weights_for_balanced_classes(train_dataset.image_paths, train_dataset.image_labels, nclasses=2)  \n",
    "weights = torch.DoubleTensor(weights)                                       \n",
    "trainsampler = sampler.WeightedRandomSampler(weights, len(weights))\n",
    "\n",
    "# print(len(train_dataset))\n",
    "# print(len(val_dataset))\n",
    "# print(len(test_dataset))"
   ]
  },
  {
   "cell_type": "markdown",
   "metadata": {},
   "source": [
    "## Model definition\n"
   ]
  },
  {
   "cell_type": "code",
   "execution_count": 64,
   "metadata": {},
   "outputs": [
    {
     "name": "stdout",
     "output_type": "stream",
     "text": [
      "----------------------------------------------------------------\n",
      "        Layer (type)               Output Shape         Param #\n",
      "================================================================\n",
      "            Conv2d-1          [-1, 4, 508, 508]             304\n",
      "              ReLU-2          [-1, 4, 508, 508]               0\n",
      "         MaxPool2d-3          [-1, 4, 254, 254]               0\n",
      "            Conv2d-4          [-1, 8, 250, 250]             808\n",
      "              ReLU-5          [-1, 8, 250, 250]               0\n",
      "         MaxPool2d-6          [-1, 8, 125, 125]               0\n",
      "            Linear-7                  [-1, 125]      15,625,125\n",
      "              ReLU-8                  [-1, 125]               0\n",
      "            Linear-9                    [-1, 2]             252\n",
      "       LogSoftmax-10                    [-1, 2]               0\n",
      "================================================================\n",
      "Total params: 15,626,489\n",
      "Trainable params: 15,626,489\n",
      "Non-trainable params: 0\n",
      "----------------------------------------------------------------\n",
      "Input size (MB): 3.00\n",
      "Forward/backward pass size (MB): 26.30\n",
      "Params size (MB): 59.61\n",
      "Estimated Total Size (MB): 88.92\n",
      "----------------------------------------------------------------\n"
     ]
    }
   ],
   "source": [
    "class BaselineModel(nn.Module):\n",
    "    \"\"\"\n",
    "    Baseline model built on LeNet architecture.\n",
    "    \"\"\"\n",
    "    def __init__(self, num_classes):\n",
    "        super().__init__()\n",
    "\n",
    "        self.relu = nn.ReLU()\n",
    "        self.pool = nn.MaxPool2d(2, 2)\n",
    "\n",
    "        self.conv1 = nn.Conv2d(3, 4, 5)\n",
    "        self.conv2 = nn.Conv2d(4, 8, 5)\n",
    "\n",
    "        self.fc1 = nn.Linear(8 * 125 * 125, 125)\n",
    "        self.fc2 = nn.Linear(125, num_classes)\n",
    "\n",
    "        self.logsoftmax = nn.LogSoftmax(dim=1)\n",
    "#         self.sigmoid = nn.Sigmoid()\n",
    "\n",
    "    def forward(self, x):\n",
    "        # first Conv => ReLU => Pool block\n",
    "        x = self.pool(self.relu(self.conv1(x)))\n",
    "        # second Conv => ReLU => Pool block\n",
    "        x = self.pool(self.relu(self.conv2(x)))\n",
    "\n",
    "        # flatten\n",
    "        x = torch.flatten(x, 1)\n",
    "\n",
    "        # first FC\n",
    "        x = self.relu(self.fc1(x))\n",
    "        # second FC\n",
    "        x = self.fc2(x)\n",
    "\n",
    "        # class predictions\n",
    "        output = self.logsoftmax(x)\n",
    "#         output =self.sigmoid(x)\n",
    "\n",
    "        return output\n",
    "\n",
    "model = BaselineModel(len(classes)).to(device)\n",
    "summary(model, input_size=(3, 512, 512), device=device)\n",
    "        "
   ]
  },
  {
   "cell_type": "code",
   "execution_count": 70,
   "metadata": {},
   "outputs": [],
   "source": [
    "INITIAL_LEARNING_RATE = 1e-3\n",
    "EPOCHS = 10\n",
    "BATCH_SIZE = 64\n",
    "\n",
    "optimizer = optim.Adam(model.parameters(), lr=1e-3)\n",
    "loss_func = nn.NLLLoss()\n",
    "# loss_func=nn.BCEWithLogitsLoss()\n",
    "\n",
    "history = {\n",
    "    \"train_loss\": [],\n",
    "    \"train_acc\": [],\n",
    "    \"val_loss\": [],\n",
    "    \"val_acc\": []\n",
    "}\n",
    "\n",
    "train_loader = DataLoader(train_dataset, batch_size=BATCH_SIZE,sampler=trainsampler)\n",
    "val_loader = DataLoader(val_dataset, batch_size=BATCH_SIZE, shuffle=True)\n",
    "test_loader = DataLoader(test_dataset, batch_size=BATCH_SIZE, shuffle=False)\n",
    "\n",
    "train_steps = len(train_loader) // BATCH_SIZE\n",
    "val_steps = len(val_loader) // BATCH_SIZE"
   ]
  },
  {
   "cell_type": "code",
   "execution_count": 71,
   "metadata": {},
   "outputs": [
    {
     "name": "stdout",
     "output_type": "stream",
     "text": [
      "Epoch 1/10\n",
      "Train:\n"
     ]
    },
    {
     "name": "stderr",
     "output_type": "stream",
     "text": [
      "100%|██████████| 82/82 [09:07<00:00,  6.68s/it]\n"
     ]
    },
    {
     "name": "stdout",
     "output_type": "stream",
     "text": [
      "Val:\n"
     ]
    },
    {
     "name": "stderr",
     "output_type": "stream",
     "text": [
      "100%|██████████| 1/1 [00:01<00:00,  1.53s/it]\n"
     ]
    },
    {
     "name": "stdout",
     "output_type": "stream",
     "text": [
      "Train loss: 25.577896, Train accuracy: 0.8627\n",
      "Val loss: inf, Val accuracy: 0.9375\n",
      "\n",
      "Epoch 2/10\n",
      "Train:\n"
     ]
    },
    {
     "name": "stderr",
     "output_type": "stream",
     "text": [
      "100%|██████████| 82/82 [08:21<00:00,  6.11s/it]\n"
     ]
    },
    {
     "name": "stdout",
     "output_type": "stream",
     "text": [
      "Val:\n"
     ]
    },
    {
     "name": "stderr",
     "output_type": "stream",
     "text": [
      "100%|██████████| 1/1 [00:00<00:00,  1.08it/s]\n"
     ]
    },
    {
     "name": "stdout",
     "output_type": "stream",
     "text": [
      "Train loss: 6.147932, Train accuracy: 0.9747\n",
      "Val loss: inf, Val accuracy: 1.0000\n",
      "\n",
      "Epoch 3/10\n",
      "Train:\n"
     ]
    },
    {
     "name": "stderr",
     "output_type": "stream",
     "text": [
      "100%|██████████| 82/82 [07:23<00:00,  5.40s/it]\n"
     ]
    },
    {
     "name": "stdout",
     "output_type": "stream",
     "text": [
      "Val:\n"
     ]
    },
    {
     "name": "stderr",
     "output_type": "stream",
     "text": [
      "100%|██████████| 1/1 [00:00<00:00,  1.22it/s]\n"
     ]
    },
    {
     "name": "stdout",
     "output_type": "stream",
     "text": [
      "Train loss: 6.173966, Train accuracy: 0.9726\n",
      "Val loss: inf, Val accuracy: 0.9375\n",
      "\n",
      "Epoch 4/10\n",
      "Train:\n"
     ]
    },
    {
     "name": "stderr",
     "output_type": "stream",
     "text": [
      "100%|██████████| 82/82 [07:29<00:00,  5.48s/it]\n"
     ]
    },
    {
     "name": "stdout",
     "output_type": "stream",
     "text": [
      "Val:\n"
     ]
    },
    {
     "name": "stderr",
     "output_type": "stream",
     "text": [
      "100%|██████████| 1/1 [00:00<00:00,  1.00it/s]\n"
     ]
    },
    {
     "name": "stdout",
     "output_type": "stream",
     "text": [
      "Train loss: 3.039671, Train accuracy: 0.9891\n",
      "Val loss: inf, Val accuracy: 0.9375\n",
      "\n",
      "Epoch 5/10\n",
      "Train:\n"
     ]
    },
    {
     "name": "stderr",
     "output_type": "stream",
     "text": [
      "100%|██████████| 82/82 [07:07<00:00,  5.21s/it]\n"
     ]
    },
    {
     "name": "stdout",
     "output_type": "stream",
     "text": [
      "Val:\n"
     ]
    },
    {
     "name": "stderr",
     "output_type": "stream",
     "text": [
      "100%|██████████| 1/1 [00:00<00:00,  1.32it/s]\n"
     ]
    },
    {
     "name": "stdout",
     "output_type": "stream",
     "text": [
      "Train loss: 2.068437, Train accuracy: 0.9927\n",
      "Val loss: inf, Val accuracy: 1.0000\n",
      "\n",
      "Epoch 6/10\n",
      "Train:\n"
     ]
    },
    {
     "name": "stderr",
     "output_type": "stream",
     "text": [
      "100%|██████████| 82/82 [07:12<00:00,  5.28s/it]\n"
     ]
    },
    {
     "name": "stdout",
     "output_type": "stream",
     "text": [
      "Val:\n"
     ]
    },
    {
     "name": "stderr",
     "output_type": "stream",
     "text": [
      "100%|██████████| 1/1 [00:00<00:00,  1.15it/s]\n"
     ]
    },
    {
     "name": "stdout",
     "output_type": "stream",
     "text": [
      "Train loss: 2.608635, Train accuracy: 0.9912\n",
      "Val loss: inf, Val accuracy: 0.8750\n",
      "\n",
      "Epoch 7/10\n",
      "Train:\n"
     ]
    },
    {
     "name": "stderr",
     "output_type": "stream",
     "text": [
      "100%|██████████| 82/82 [07:16<00:00,  5.33s/it]\n"
     ]
    },
    {
     "name": "stdout",
     "output_type": "stream",
     "text": [
      "Val:\n"
     ]
    },
    {
     "name": "stderr",
     "output_type": "stream",
     "text": [
      "100%|██████████| 1/1 [00:00<00:00,  1.09it/s]\n"
     ]
    },
    {
     "name": "stdout",
     "output_type": "stream",
     "text": [
      "Train loss: 1.400590, Train accuracy: 0.9942\n",
      "Val loss: inf, Val accuracy: 0.9375\n",
      "\n",
      "Epoch 8/10\n",
      "Train:\n"
     ]
    },
    {
     "name": "stderr",
     "output_type": "stream",
     "text": [
      "100%|██████████| 82/82 [09:07<00:00,  6.68s/it]\n"
     ]
    },
    {
     "name": "stdout",
     "output_type": "stream",
     "text": [
      "Val:\n"
     ]
    },
    {
     "name": "stderr",
     "output_type": "stream",
     "text": [
      "100%|██████████| 1/1 [00:00<00:00,  1.20it/s]\n"
     ]
    },
    {
     "name": "stdout",
     "output_type": "stream",
     "text": [
      "Train loss: 1.085352, Train accuracy: 0.9973\n",
      "Val loss: inf, Val accuracy: 1.0000\n",
      "\n",
      "Epoch 9/10\n",
      "Train:\n"
     ]
    },
    {
     "name": "stderr",
     "output_type": "stream",
     "text": [
      "100%|██████████| 82/82 [08:19<00:00,  6.09s/it]\n"
     ]
    },
    {
     "name": "stdout",
     "output_type": "stream",
     "text": [
      "Val:\n"
     ]
    },
    {
     "name": "stderr",
     "output_type": "stream",
     "text": [
      "100%|██████████| 1/1 [00:01<00:00,  1.01s/it]\n"
     ]
    },
    {
     "name": "stdout",
     "output_type": "stream",
     "text": [
      "Train loss: 0.348949, Train accuracy: 0.9992\n",
      "Val loss: inf, Val accuracy: 0.9375\n",
      "\n",
      "Epoch 10/10\n",
      "Train:\n"
     ]
    },
    {
     "name": "stderr",
     "output_type": "stream",
     "text": [
      "100%|██████████| 82/82 [08:42<00:00,  6.38s/it]\n"
     ]
    },
    {
     "name": "stdout",
     "output_type": "stream",
     "text": [
      "Val:\n"
     ]
    },
    {
     "name": "stderr",
     "output_type": "stream",
     "text": [
      "100%|██████████| 1/1 [00:00<00:00,  1.22it/s]\n"
     ]
    },
    {
     "name": "stdout",
     "output_type": "stream",
     "text": [
      "Train loss: 1.543194, Train accuracy: 0.9941\n",
      "Val loss: inf, Val accuracy: 0.6875\n",
      "\n",
      "Total training time: 4828.65s\n"
     ]
    }
   ],
   "source": [
    "start = time.time()\n",
    "\n",
    "for e in range(EPOCHS):\n",
    "    print('Epoch {}/{}'.format(e+1, EPOCHS))\n",
    "    model.train()\n",
    "\n",
    "    total_train_loss = 0\n",
    "    total_val_loss = 0\n",
    "\n",
    "    train_correct = 0\n",
    "    val_correct = 0\n",
    "\n",
    "    print('Train:')\n",
    "    for (x, y) in tqdm(train_loader):\n",
    "        (x, y) = (x.to(device), y.to(device))\n",
    "\n",
    "        pred = model(x)\n",
    "        loss = loss_func(pred, y)\n",
    "\n",
    "        optimizer.zero_grad()\n",
    "        loss.backward()\n",
    "        optimizer.step()\n",
    "\n",
    "        total_train_loss += loss\n",
    "        train_correct += (pred.argmax(1) == y).type(torch.float).sum().item()\n",
    "\n",
    "    print('Val:')\n",
    "    with torch.no_grad():\n",
    "        model.eval()\n",
    "\n",
    "        for (x, y) in tqdm(val_loader):\n",
    "            (x, y) = (x.to(device), y.to(device))\n",
    "\n",
    "            pred = model(x)\n",
    "\n",
    "            total_val_loss += loss_func(pred, y)\n",
    "            val_correct += (pred.argmax(1) == y).type(torch.float).sum().item()\n",
    "    \n",
    "    avg_train_loss = total_train_loss / train_steps\n",
    "    avg_val_loss = total_val_loss / val_steps\n",
    "\n",
    "    train_correct = train_correct / len(train_loader.dataset)\n",
    "    val_correct = val_correct / len(val_loader.dataset)\n",
    "\n",
    "    history[\"train_loss\"].append(avg_train_loss.cpu().detach().numpy())\n",
    "    history[\"train_acc\"].append(train_correct)\n",
    "    history[\"val_loss\"].append(avg_val_loss.cpu().detach().numpy())\n",
    "    history[\"val_acc\"].append(val_correct)\n",
    "\n",
    "    print(\"Train loss: {:.6f}, Train accuracy: {:.4f}\".format(avg_train_loss, train_correct))\n",
    "    print(\"Val loss: {:.6f}, Val accuracy: {:.4f}\\n\".format(avg_val_loss, val_correct))\n",
    "\n",
    "    torch.save(model, \"models/model_epoch_{}.pth\".format(e))\n",
    "\n",
    "end = time.time()\n",
    "\n",
    "print('Total training time: {:.2f}s'.format(end - start))"
   ]
  },
  {
   "cell_type": "code",
   "execution_count": 72,
   "metadata": {},
   "outputs": [
    {
     "data": {
      "image/png": "[encoded data removed]",
      "text/plain": [
       "<Figure size 640x480 with 1 Axes>"
      ]
     },
     "metadata": {},
     "output_type": "display_data"
    }
   ],
   "source": [
    "plt.figure()\n",
    "plt.plot(history[\"train_loss\"], label=\"train_loss\")\n",
    "plt.plot(history[\"val_loss\"], label=\"val_loss\")\n",
    "plt.plot(history[\"train_acc\"], label=\"train_acc\")\n",
    "plt.plot(history[\"val_acc\"], label=\"val_acc\")\n",
    "plt.title(\"Training Loss and Accuracy on Dataset\")\n",
    "plt.xlabel(\"Epoch #\")\n",
    "plt.ylabel(\"Loss/Accuracy\")\n",
    "plt.legend(loc=\"lower left\")\n",
    "plt.savefig(\"output/training.png\")"
   ]
  },
  {
   "cell_type": "markdown",
   "metadata": {},
   "source": [
    "Testing"
   ]
  },
  {
   "cell_type": "code",
   "execution_count": 74,
   "metadata": {},
   "outputs": [
    {
     "name": "stdout",
     "output_type": "stream",
     "text": [
      "Test: \n"
     ]
    },
    {
     "name": "stderr",
     "output_type": "stream",
     "text": [
      "100%|██████████| 10/10 [00:31<00:00,  3.11s/it]"
     ]
    },
    {
     "name": "stdout",
     "output_type": "stream",
     "text": [
      "              precision    recall  f1-score   support\n",
      "\n",
      "      NORMAL       0.96      0.20      0.33       234\n",
      "   PNEUMONIA       0.67      0.99      0.80       390\n",
      "\n",
      "    accuracy                           0.70       624\n",
      "   macro avg       0.82      0.60      0.57       624\n",
      "weighted avg       0.78      0.70      0.63       624\n",
      "\n"
     ]
    },
    {
     "name": "stderr",
     "output_type": "stream",
     "text": [
      "\n"
     ]
    }
   ],
   "source": [
    "with torch.no_grad():\n",
    "    model.eval()\n",
    "\n",
    "    predictions = []\n",
    "    targets = []\n",
    "\n",
    "    print(\"Test: \")\n",
    "    for (x, y) in tqdm(test_loader):\n",
    "        x = x.to(device)\n",
    "\n",
    "        pred = model(x)\n",
    "        predictions.extend(pred.argmax(axis=1).cpu().numpy())\n",
    "        targets.extend(y)\n",
    "\n",
    "print(classification_report(targets, np.array(predictions), target_names=classes))"
   ]
  }
 ],
 "metadata": {
  "accelerator": "GPU",
  "colab": {
   "authorship_tag": "ABX9TyN2urg6Mo8UbFbdIM9XD164",
   "include_colab_link": true,
   "name": "main.ipynb",
   "provenance": []
  },
  "kernelspec": {
   "display_name": "Python 3 (ipykernel)",
   "language": "python",
   "name": "python3"
  },
  "language_info": {
   "codemirror_mode": {
    "name": "ipython",
    "version": 3
   },
   "file_extension": ".py",
   "mimetype": "text/x-python",
   "name": "python",
   "nbconvert_exporter": "python",
   "pygments_lexer": "ipython3",
   "version": "3.9.13"
  },
  "vscode": {
   "interpreter": {
    "hash": "955ea0251001f5b458341deac805c039cb889f5bf84145d06dd9ce4d5fd08250"
   }
  }
 },
 "nbformat": 4,
 "nbformat_minor": 1
}
